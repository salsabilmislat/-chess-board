{
 "cells": [
  {
   "cell_type": "code",
   "execution_count": 1,
   "metadata": {},
   "outputs": [],
   "source": [
    "import numpy as np\n",
    "%matplotlib inline\n",
    "import matplotlib.pyplot as plt"
   ]
  },
  {
   "cell_type": "code",
   "execution_count": 2,
   "metadata": {},
   "outputs": [],
   "source": [
    "class ChessBoard:\n",
    "    \n",
    "    def __init__(self):\n",
    "        self.board = np.ones([8,8,3])\n",
    "        for i in np.ndindex(8,8):\n",
    "            row = i[0]\n",
    "            col = i[1]\n",
    "            # if row%2==0 and col%2==1 or row%2==1 and col%2==0:\n",
    "            if row%2 != col%2:\n",
    "                self.board[row, col] = [0,0,0]\n",
    "            # print(i, self.board[i])\n",
    "    \n",
    "    \"\"\"\n",
    "    add_red method that accepts a row and column as input which colors corresponding cell.\n",
    "    \"\"\"\n",
    "    def add_red(self, row, col):\n",
    "        self.red_row=row\n",
    "        self.red_column=col\n",
    "        self.board[row][col]=(1,.2,0)\n",
    "        self.render()\n",
    "\n",
    "    \"\"\"\n",
    "    add_blue method that accepts a row and column as input which colors corresponding cell.\n",
    "    \"\"\"    \n",
    "    \n",
    "    def add_blue(self, row, col):\n",
    "        self.blue_row=row\n",
    "        self.blue_column=col\n",
    "        self.board[row][col]=(0,1,1)\n",
    "        self.render()\n",
    "    \n",
    "    \"\"\"\n",
    "    render method that displays the chess board on screen with red and blue shown in correct locations\n",
    "    \"\"\"\n",
    "    def render(self):\n",
    "        plt.imshow(self.board)\n",
    "    \n",
    "    \"\"\"\n",
    "    is_under_attack method that return boolean if red is under attack by a blue piece horizontally, vertically or diagonally\n",
    "    \"\"\"\n",
    "    def is_under_attack(self):\n",
    "\n",
    "        if (self.red_row == self.blue_row) and (self.red_column == self.blue_column):\n",
    "\n",
    "            return 'At the same point , already eaten'\n",
    "\n",
    "        elif self.red_row == self.blue_row or self.red_column == self.blue_column :\n",
    "                \n",
    "            return True\n",
    "\n",
    "        elif abs(self.blue_row - self.red_row) == abs(self.blue_column - self.red_column):\n",
    "\n",
    "            return True\n",
    "\n",
    "        else:\n",
    "\n",
    "            return False\n",
    "        "
   ]
  },
  {
   "cell_type": "code",
   "execution_count": 3,
   "metadata": {},
   "outputs": [
    {
     "data": {
      "image/png": "[encoded data removed]",
      "text/plain": [
       "<Figure size 432x288 with 1 Axes>"
      ]
     },
     "metadata": {
      "needs_background": "light"
     },
     "output_type": "display_data"
    }
   ],
   "source": [
    "\"\"\" \n",
    "queens on same diagonal should be “under attack”\n",
    "\"\"\"\n",
    "chess_board = ChessBoard()\n",
    "chess_board.add_red(4,4)\n",
    "chess_board.add_blue(5,5)\n",
    "assert chess_board.is_under_attack()==True\n",
    "\n",
    "chess_board.render()"
   ]
  },
  {
   "cell_type": "code",
   "execution_count": 4,
   "metadata": {},
   "outputs": [
    {
     "data": {
      "image/png": "[encoded data removed]",
      "text/plain": [
       "<Figure size 432x288 with 1 Axes>"
      ]
     },
     "metadata": {
      "needs_background": "light"
     },
     "output_type": "display_data"
    }
   ],
   "source": [
    "\"\"\" \n",
    "queens on same row should be “under attack”\n",
    "\"\"\"\n",
    "chess_board = ChessBoard()\n",
    "chess_board.add_red(4,4)\n",
    "chess_board.add_blue(4,5)\n",
    "assert chess_board.is_under_attack()==True\n",
    "\n",
    "chess_board.render()"
   ]
  },
  {
   "cell_type": "code",
   "execution_count": 5,
   "metadata": {},
   "outputs": [
    {
     "data": {
      "image/png": "[encoded data removed]",
      "text/plain": [
       "<Figure size 432x288 with 1 Axes>"
      ]
     },
     "metadata": {
      "needs_background": "light"
     },
     "output_type": "display_data"
    }
   ],
   "source": [
    "\"\"\" \n",
    "queens on same column should be “under attack”\n",
    "\"\"\"\n",
    "chess_board = ChessBoard()\n",
    "chess_board.add_red(4,4)\n",
    "chess_board.add_blue(5,4)\n",
    "assert chess_board.is_under_attack()==True\n",
    "\n",
    "chess_board.render()"
   ]
  },
  {
   "cell_type": "code",
   "execution_count": 6,
   "metadata": {},
   "outputs": [
    {
     "data": {
      "image/png": "[encoded data removed]",
      "text/plain": [
       "<Figure size 432x288 with 1 Axes>"
      ]
     },
     "metadata": {
      "needs_background": "light"
     },
     "output_type": "display_data"
    }
   ],
   "source": [
    "\"\"\" \n",
    "queens with any other coordinates should NOT be “under attack”\n",
    "\n",
    "\"\"\"\n",
    "chess_board = ChessBoard()\n",
    "chess_board.add_red(1,1)\n",
    "chess_board.add_blue(5,4)\n",
    "assert chess_board.is_under_attack()==False\n",
    "\n",
    "chess_board.render()"
   ]
  }
 ],
 "metadata": {
  "interpreter": {
   "hash": "0f5c73074bbf1817abc5a0f4cd9e7ce0facee0b2ee77a447604e0445af608d0e"
  },
  "kernelspec": {
   "display_name": "Python 3.9.5 64-bit ('.venv': poetry)",
   "language": "python",
   "name": "python3"
  },
  "language_info": {
   "codemirror_mode": {
    "name": "ipython",
    "version": 3
   },
   "file_extension": ".py",
   "mimetype": "text/x-python",
   "name": "python",
   "nbconvert_exporter": "python",
   "pygments_lexer": "ipython3",
   "version": "3.9.5"
  },
  "orig_nbformat": 4
 },
 "nbformat": 4,
 "nbformat_minor": 2
}
